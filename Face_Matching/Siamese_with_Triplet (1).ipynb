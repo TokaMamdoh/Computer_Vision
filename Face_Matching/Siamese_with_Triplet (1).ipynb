{
  "cells": [
    {
      "cell_type": "markdown",
      "metadata": {
        "id": "hgMVHf_kBciS"
      },
      "source": [
        "# Installing libraires"
      ]
    },
    {
      "cell_type": "code",
      "execution_count": 1,
      "metadata": {
        "id": "QikDmj1aBOOv"
      },
      "outputs": [
        {
          "name": "stdout",
          "output_type": "stream",
          "text": [
            "Requirement already satisfied: torch in d:\\app\\anaconda\\lib\\site-packages (1.13.0)\n",
            "Requirement already satisfied: typing-extensions in d:\\app\\anaconda\\lib\\site-packages (from torch) (4.1.1)\n",
            "Requirement already satisfied: opencv-python in d:\\app\\anaconda\\lib\\site-packages (4.6.0.66)\n",
            "Requirement already satisfied: numpy>=1.14.5 in d:\\app\\anaconda\\lib\\site-packages (from opencv-python) (1.22.4)\n",
            "Requirement already satisfied: matplotlib in d:\\app\\anaconda\\lib\\site-packages (3.5.1)\n",
            "Requirement already satisfied: cycler>=0.10 in d:\\app\\anaconda\\lib\\site-packages (from matplotlib) (0.11.0)\n",
            "Requirement already satisfied: fonttools>=4.22.0 in d:\\app\\anaconda\\lib\\site-packages (from matplotlib) (4.25.0)\n",
            "Requirement already satisfied: kiwisolver>=1.0.1 in d:\\app\\anaconda\\lib\\site-packages (from matplotlib) (1.3.2)\n",
            "Requirement already satisfied: numpy>=1.17 in d:\\app\\anaconda\\lib\\site-packages (from matplotlib) (1.22.4)\n",
            "Requirement already satisfied: packaging>=20.0 in d:\\app\\anaconda\\lib\\site-packages (from matplotlib) (21.3)\n",
            "Requirement already satisfied: pillow>=6.2.0 in d:\\app\\anaconda\\lib\\site-packages (from matplotlib) (10.1.0)\n",
            "Requirement already satisfied: pyparsing>=2.2.1 in d:\\app\\anaconda\\lib\\site-packages (from matplotlib) (3.0.4)\n",
            "Requirement already satisfied: python-dateutil>=2.7 in d:\\app\\anaconda\\lib\\site-packages (from matplotlib) (2.8.2)\n",
            "Requirement already satisfied: six>=1.5 in d:\\app\\anaconda\\lib\\site-packages (from python-dateutil>=2.7->matplotlib) (1.16.0)\n"
          ]
        }
      ],
      "source": [
        "!pip install torch\n",
        "!pip install opencv-python\n",
        "!pip install matplotlib"
      ]
    },
    {
      "cell_type": "markdown",
      "metadata": {
        "id": "q-b-zQcdCUaG"
      },
      "source": [
        "# Import libraries"
      ]
    },
    {
      "cell_type": "code",
      "execution_count": 2,
      "metadata": {
        "id": "sJUPzWxSBqY4"
      },
      "outputs": [],
      "source": [
        "import torch\n",
        "import torch.nn as nn\n",
        "import torch.optim as optim\n",
        "import torchvision.transforms as transforms\n",
        "from torch.utils.data import Dataset, DataLoader\n",
        "from sklearn.model_selection import train_test_split\n",
        "import numpy as np\n",
        "import itertools\n",
        "import cv2\n",
        "import os\n",
        "import pandas as pd\n",
        "import matplotlib.pyplot as plt\n",
        "from sklearn.metrics import confusion_matrix,accuracy_score,precision_score,recall_score,f1_score\n",
        "%matplotlib inline"
      ]
    },
    {
      "cell_type": "markdown",
      "metadata": {
        "id": "0jRsu1MrCzMG"
      },
      "source": [
        "# Creating dataset"
      ]
    },
    {
      "cell_type": "code",
      "execution_count": 3,
      "metadata": {
        "id": "4o2Wfr_BjCSf"
      },
      "outputs": [],
      "source": [
        "idendities = {\n",
        "    \"Angelina\": [\"img1.jpg\", \"img2.jpg\", \"img4.jpg\", \"img5.jpg\", \"img6.jpg\", \"img7.jpg\", \"img10.jpg\", \"img11.jpg\"],\n",
        "    \"Scarlett\": [\"img8.jpg\", \"img9.jpg\",\"img47.jpg\"],\n",
        "    \"Jennifer\": [\"img3.jpg\", \"img12.jpg\",\"img54.jpg\"],\n",
        "    \"Mark\": [\"img13.jpg\", \"img14.jpg\", \"img15.jpg\"],\n",
        "    \"Jack\": [\"img16.jpg\", \"img17.jpg\"],\n",
        "    \"Elon\": [\"img18.jpg\", \"img19.jpg\"],\n",
        "    \"Jeff\": [\"img20.jpg\", \"img21.jpg\"],\n",
        "    \"Marissa\": [\"img22.jpg\", \"img23.jpg\"],\n",
        "    \"Sundar\": [\"img24.jpg\", \"img25.jpg\"]\n",
        "}"
      ]
    },
    {
      "cell_type": "markdown",
      "metadata": {},
      "source": [
        "## Training dataset"
      ]
    },
    {
      "cell_type": "code",
      "execution_count": 4,
      "metadata": {
        "id": "SzhkBsBykI5z"
      },
      "outputs": [],
      "source": [
        "import random\n",
        "# creating list anchor,positive, negative\n",
        "positives = []\n",
        "anchors = []\n",
        "negatives = []\n",
        "for key, values in idendities.items():\n",
        "    if len(values) < 2:\n",
        "        continue\n",
        "    # Appending positive and anchor images\n",
        "    for i in range(0, len(values)-1):\n",
        "        for j in range(i+1, len(values)):\n",
        "            positives.append(values[i])\n",
        "            anchors.append(values[j])\n",
        "    other_people = list(idendities.keys())\n",
        "    other_people.remove(key)\n",
        "    # Appending negative images\n",
        "    for i in range(len(values)):\n",
        "        neg_person = random.choice(other_people)\n",
        "        neg_image = random.choice(idendities[neg_person])\n",
        "        negatives.append(neg_image)"
      ]
    },
    {
      "cell_type": "code",
      "execution_count": 5,
      "metadata": {
        "colab": {
          "base_uri": "https://localhost:8080/"
        },
        "id": "NTWTtTrnnw4A",
        "outputId": "77dd77bf-a7d6-41b0-beac-b8506edc74fd"
      },
      "outputs": [
        {
          "data": {
            "text/plain": [
              "27"
            ]
          },
          "execution_count": 5,
          "metadata": {},
          "output_type": "execute_result"
        }
      ],
      "source": [
        "len(negatives)"
      ]
    },
    {
      "cell_type": "code",
      "execution_count": 6,
      "metadata": {
        "colab": {
          "base_uri": "https://localhost:8080/",
          "height": 896
        },
        "id": "Apt91xplkKGq",
        "outputId": "1280e318-507c-4b4e-8070-10e68b6e5a52"
      },
      "outputs": [
        {
          "data": {
            "text/html": [
              "<div>\n",
              "<style scoped>\n",
              "    .dataframe tbody tr th:only-of-type {\n",
              "        vertical-align: middle;\n",
              "    }\n",
              "\n",
              "    .dataframe tbody tr th {\n",
              "        vertical-align: top;\n",
              "    }\n",
              "\n",
              "    .dataframe thead th {\n",
              "        text-align: right;\n",
              "    }\n",
              "</style>\n",
              "<table border=\"1\" class=\"dataframe\">\n",
              "  <thead>\n",
              "    <tr style=\"text-align: right;\">\n",
              "      <th></th>\n",
              "      <th>Anchor</th>\n",
              "      <th>Positive</th>\n",
              "      <th>Negative</th>\n",
              "    </tr>\n",
              "  </thead>\n",
              "  <tbody>\n",
              "    <tr>\n",
              "      <th>0</th>\n",
              "      <td>img2.jpg</td>\n",
              "      <td>img1.jpg</td>\n",
              "      <td>img18.jpg</td>\n",
              "    </tr>\n",
              "    <tr>\n",
              "      <th>1</th>\n",
              "      <td>img4.jpg</td>\n",
              "      <td>img1.jpg</td>\n",
              "      <td>img14.jpg</td>\n",
              "    </tr>\n",
              "    <tr>\n",
              "      <th>2</th>\n",
              "      <td>img5.jpg</td>\n",
              "      <td>img1.jpg</td>\n",
              "      <td>img16.jpg</td>\n",
              "    </tr>\n",
              "    <tr>\n",
              "      <th>3</th>\n",
              "      <td>img6.jpg</td>\n",
              "      <td>img1.jpg</td>\n",
              "      <td>img15.jpg</td>\n",
              "    </tr>\n",
              "    <tr>\n",
              "      <th>4</th>\n",
              "      <td>img7.jpg</td>\n",
              "      <td>img1.jpg</td>\n",
              "      <td>img17.jpg</td>\n",
              "    </tr>\n",
              "    <tr>\n",
              "      <th>5</th>\n",
              "      <td>img10.jpg</td>\n",
              "      <td>img1.jpg</td>\n",
              "      <td>img3.jpg</td>\n",
              "    </tr>\n",
              "    <tr>\n",
              "      <th>6</th>\n",
              "      <td>img11.jpg</td>\n",
              "      <td>img1.jpg</td>\n",
              "      <td>img18.jpg</td>\n",
              "    </tr>\n",
              "    <tr>\n",
              "      <th>7</th>\n",
              "      <td>img4.jpg</td>\n",
              "      <td>img2.jpg</td>\n",
              "      <td>img23.jpg</td>\n",
              "    </tr>\n",
              "    <tr>\n",
              "      <th>8</th>\n",
              "      <td>img5.jpg</td>\n",
              "      <td>img2.jpg</td>\n",
              "      <td>img22.jpg</td>\n",
              "    </tr>\n",
              "    <tr>\n",
              "      <th>9</th>\n",
              "      <td>img6.jpg</td>\n",
              "      <td>img2.jpg</td>\n",
              "      <td>img1.jpg</td>\n",
              "    </tr>\n",
              "    <tr>\n",
              "      <th>10</th>\n",
              "      <td>img7.jpg</td>\n",
              "      <td>img2.jpg</td>\n",
              "      <td>img15.jpg</td>\n",
              "    </tr>\n",
              "    <tr>\n",
              "      <th>11</th>\n",
              "      <td>img10.jpg</td>\n",
              "      <td>img2.jpg</td>\n",
              "      <td>img25.jpg</td>\n",
              "    </tr>\n",
              "    <tr>\n",
              "      <th>12</th>\n",
              "      <td>img11.jpg</td>\n",
              "      <td>img2.jpg</td>\n",
              "      <td>img47.jpg</td>\n",
              "    </tr>\n",
              "    <tr>\n",
              "      <th>13</th>\n",
              "      <td>img5.jpg</td>\n",
              "      <td>img4.jpg</td>\n",
              "      <td>img15.jpg</td>\n",
              "    </tr>\n",
              "    <tr>\n",
              "      <th>14</th>\n",
              "      <td>img6.jpg</td>\n",
              "      <td>img4.jpg</td>\n",
              "      <td>img24.jpg</td>\n",
              "    </tr>\n",
              "    <tr>\n",
              "      <th>15</th>\n",
              "      <td>img7.jpg</td>\n",
              "      <td>img4.jpg</td>\n",
              "      <td>img7.jpg</td>\n",
              "    </tr>\n",
              "    <tr>\n",
              "      <th>16</th>\n",
              "      <td>img10.jpg</td>\n",
              "      <td>img4.jpg</td>\n",
              "      <td>img24.jpg</td>\n",
              "    </tr>\n",
              "    <tr>\n",
              "      <th>17</th>\n",
              "      <td>img11.jpg</td>\n",
              "      <td>img4.jpg</td>\n",
              "      <td>img21.jpg</td>\n",
              "    </tr>\n",
              "    <tr>\n",
              "      <th>18</th>\n",
              "      <td>img6.jpg</td>\n",
              "      <td>img5.jpg</td>\n",
              "      <td>img23.jpg</td>\n",
              "    </tr>\n",
              "    <tr>\n",
              "      <th>19</th>\n",
              "      <td>img7.jpg</td>\n",
              "      <td>img5.jpg</td>\n",
              "      <td>img23.jpg</td>\n",
              "    </tr>\n",
              "    <tr>\n",
              "      <th>20</th>\n",
              "      <td>img10.jpg</td>\n",
              "      <td>img5.jpg</td>\n",
              "      <td>img8.jpg</td>\n",
              "    </tr>\n",
              "    <tr>\n",
              "      <th>21</th>\n",
              "      <td>img11.jpg</td>\n",
              "      <td>img5.jpg</td>\n",
              "      <td>img3.jpg</td>\n",
              "    </tr>\n",
              "    <tr>\n",
              "      <th>22</th>\n",
              "      <td>img7.jpg</td>\n",
              "      <td>img6.jpg</td>\n",
              "      <td>img3.jpg</td>\n",
              "    </tr>\n",
              "    <tr>\n",
              "      <th>23</th>\n",
              "      <td>img10.jpg</td>\n",
              "      <td>img6.jpg</td>\n",
              "      <td>img17.jpg</td>\n",
              "    </tr>\n",
              "    <tr>\n",
              "      <th>24</th>\n",
              "      <td>img11.jpg</td>\n",
              "      <td>img6.jpg</td>\n",
              "      <td>img15.jpg</td>\n",
              "    </tr>\n",
              "    <tr>\n",
              "      <th>25</th>\n",
              "      <td>img10.jpg</td>\n",
              "      <td>img7.jpg</td>\n",
              "      <td>img17.jpg</td>\n",
              "    </tr>\n",
              "    <tr>\n",
              "      <th>26</th>\n",
              "      <td>img11.jpg</td>\n",
              "      <td>img7.jpg</td>\n",
              "      <td>img22.jpg</td>\n",
              "    </tr>\n",
              "  </tbody>\n",
              "</table>\n",
              "</div>"
            ],
            "text/plain": [
              "       Anchor  Positive   Negative\n",
              "0    img2.jpg  img1.jpg  img18.jpg\n",
              "1    img4.jpg  img1.jpg  img14.jpg\n",
              "2    img5.jpg  img1.jpg  img16.jpg\n",
              "3    img6.jpg  img1.jpg  img15.jpg\n",
              "4    img7.jpg  img1.jpg  img17.jpg\n",
              "5   img10.jpg  img1.jpg   img3.jpg\n",
              "6   img11.jpg  img1.jpg  img18.jpg\n",
              "7    img4.jpg  img2.jpg  img23.jpg\n",
              "8    img5.jpg  img2.jpg  img22.jpg\n",
              "9    img6.jpg  img2.jpg   img1.jpg\n",
              "10   img7.jpg  img2.jpg  img15.jpg\n",
              "11  img10.jpg  img2.jpg  img25.jpg\n",
              "12  img11.jpg  img2.jpg  img47.jpg\n",
              "13   img5.jpg  img4.jpg  img15.jpg\n",
              "14   img6.jpg  img4.jpg  img24.jpg\n",
              "15   img7.jpg  img4.jpg   img7.jpg\n",
              "16  img10.jpg  img4.jpg  img24.jpg\n",
              "17  img11.jpg  img4.jpg  img21.jpg\n",
              "18   img6.jpg  img5.jpg  img23.jpg\n",
              "19   img7.jpg  img5.jpg  img23.jpg\n",
              "20  img10.jpg  img5.jpg   img8.jpg\n",
              "21  img11.jpg  img5.jpg   img3.jpg\n",
              "22   img7.jpg  img6.jpg   img3.jpg\n",
              "23  img10.jpg  img6.jpg  img17.jpg\n",
              "24  img11.jpg  img6.jpg  img15.jpg\n",
              "25  img10.jpg  img7.jpg  img17.jpg\n",
              "26  img11.jpg  img7.jpg  img22.jpg"
            ]
          },
          "execution_count": 6,
          "metadata": {},
          "output_type": "execute_result"
        }
      ],
      "source": [
        "data = {\n",
        "    'Anchor': anchors[:27],\n",
        "    'Positive': positives[:27],\n",
        "    'Negative': negatives\n",
        "}\n",
        "df = pd.DataFrame(data)\n",
        "df"
      ]
    },
    {
      "cell_type": "markdown",
      "metadata": {},
      "source": [
        "## Evaluation dataset"
      ]
    },
    {
      "cell_type": "code",
      "execution_count": 7,
      "metadata": {},
      "outputs": [],
      "source": [
        "# create positive images\n",
        "positives = []\n",
        "\n",
        "for key, values in idendities.items():\n",
        "    \n",
        "    #print(key)\n",
        "    for i in range(0, len(values)-1):\n",
        "        for j in range(i+1, len(values)):\n",
        "            positive = []\n",
        "            positive.append(values[i])\n",
        "            positive.append(values[j])\n",
        "            positives.append(positive)"
      ]
    },
    {
      "cell_type": "code",
      "execution_count": 66,
      "metadata": {},
      "outputs": [],
      "source": [
        "positives = pd.DataFrame(positives, columns = [\"file_x\", \"file_y\"])\n",
        "positives[\"Decision\"] = 1"
      ]
    },
    {
      "cell_type": "code",
      "execution_count": 67,
      "metadata": {},
      "outputs": [],
      "source": [
        "# create negative images\n",
        "samples_list = list(idendities.values())\n",
        "negatives = []\n",
        "\n",
        "for i in range(0, len(idendities) - 1):\n",
        "    for j in range(i+1, len(idendities)):\n",
        "        cross_product = itertools.product(samples_list[i], samples_list[j])\n",
        "        cross_product = list(cross_product)\n",
        "        \n",
        "        for cross_sample in cross_product:\n",
        "            negative = []\n",
        "            negative.append(cross_sample[0])\n",
        "            negative.append(cross_sample[1])\n",
        "            negatives.append(negative)"
      ]
    },
    {
      "cell_type": "code",
      "execution_count": 68,
      "metadata": {},
      "outputs": [],
      "source": [
        "negatives = pd.DataFrame(negatives, columns = [\"file_x\", \"file_y\"])\n",
        "negatives[\"Decision\"] = 0"
      ]
    },
    {
      "cell_type": "code",
      "execution_count": 69,
      "metadata": {},
      "outputs": [
        {
          "data": {
            "text/html": [
              "<div>\n",
              "<style scoped>\n",
              "    .dataframe tbody tr th:only-of-type {\n",
              "        vertical-align: middle;\n",
              "    }\n",
              "\n",
              "    .dataframe tbody tr th {\n",
              "        vertical-align: top;\n",
              "    }\n",
              "\n",
              "    .dataframe thead th {\n",
              "        text-align: right;\n",
              "    }\n",
              "</style>\n",
              "<table border=\"1\" class=\"dataframe\">\n",
              "  <thead>\n",
              "    <tr style=\"text-align: right;\">\n",
              "      <th></th>\n",
              "      <th>file_x</th>\n",
              "      <th>file_y</th>\n",
              "      <th>Decision</th>\n",
              "    </tr>\n",
              "  </thead>\n",
              "  <tbody>\n",
              "    <tr>\n",
              "      <th>0</th>\n",
              "      <td>img1.jpg</td>\n",
              "      <td>img2.jpg</td>\n",
              "      <td>1</td>\n",
              "    </tr>\n",
              "    <tr>\n",
              "      <th>1</th>\n",
              "      <td>img1.jpg</td>\n",
              "      <td>img4.jpg</td>\n",
              "      <td>1</td>\n",
              "    </tr>\n",
              "    <tr>\n",
              "      <th>2</th>\n",
              "      <td>img1.jpg</td>\n",
              "      <td>img5.jpg</td>\n",
              "      <td>1</td>\n",
              "    </tr>\n",
              "    <tr>\n",
              "      <th>3</th>\n",
              "      <td>img1.jpg</td>\n",
              "      <td>img6.jpg</td>\n",
              "      <td>1</td>\n",
              "    </tr>\n",
              "    <tr>\n",
              "      <th>4</th>\n",
              "      <td>img1.jpg</td>\n",
              "      <td>img7.jpg</td>\n",
              "      <td>1</td>\n",
              "    </tr>\n",
              "  </tbody>\n",
              "</table>\n",
              "</div>"
            ],
            "text/plain": [
              "     file_x    file_y  Decision\n",
              "0  img1.jpg  img2.jpg         1\n",
              "1  img1.jpg  img4.jpg         1\n",
              "2  img1.jpg  img5.jpg         1\n",
              "3  img1.jpg  img6.jpg         1\n",
              "4  img1.jpg  img7.jpg         1"
            ]
          },
          "execution_count": 69,
          "metadata": {},
          "output_type": "execute_result"
        }
      ],
      "source": [
        "# Merge positive and negative images\n",
        "eval = pd.concat([positives, negatives]).reset_index(drop = True)\n",
        "eval.head()"
      ]
    },
    {
      "cell_type": "markdown",
      "metadata": {
        "id": "A8wckg2iEsnf"
      },
      "source": [
        "# Modelling"
      ]
    },
    {
      "cell_type": "markdown",
      "metadata": {
        "id": "1iItkPNQh98J"
      },
      "source": [
        "## Siamese Network"
      ]
    },
    {
      "cell_type": "code",
      "execution_count": 12,
      "metadata": {
        "id": "WEGiChTqh8w4"
      },
      "outputs": [],
      "source": [
        "class SiameseNetwork(nn.Module):\n",
        "    def __init__(self):\n",
        "        super(SiameseNetwork, self).__init__()\n",
        "        self.cnn = nn.Sequential(\n",
        "            nn.Conv2d(1, 64, 5),\n",
        "            nn.ReLU(inplace=True),\n",
        "            nn.MaxPool2d(2, 2),\n",
        "            nn.Conv2d(64, 128, 5),\n",
        "            nn.ReLU(inplace=True),\n",
        "            nn.MaxPool2d(2, 2),\n",
        "            nn.Conv2d(128, 512, 5),\n",
        "            nn.ReLU(inplace=True),\n",
        "            nn.MaxPool2d(2, 2),\n",
        "            nn.Conv2d(512, 512, 5),\n",
        "            nn.ReLU(inplace=True),\n",
        "            nn.MaxPool2d(2, 2),\n",
        "        )\n",
        "        self.fc = nn.Sequential(\n",
        "            nn.Linear(8192, 256),\n",
        "            nn.ReLU(inplace=True),\n",
        "            nn.Linear(256, 128)\n",
        "        )\n",
        "\n",
        "    def forward_one(self, x):\n",
        "        output = self.cnn(x)\n",
        "        output = output.view(output.size()[0], -1)  # Flatten the output\n",
        "        output = self.fc(output)\n",
        "        return output\n",
        "\n",
        "    def forward(self, input):\n",
        "        output = self.forward_one(input)\n",
        "        return output"
      ]
    },
    {
      "cell_type": "markdown",
      "metadata": {
        "id": "aM4EmxV1iGEG"
      },
      "source": [
        "## triplet loss"
      ]
    },
    {
      "cell_type": "code",
      "execution_count": 13,
      "metadata": {
        "id": "jr2c0EBeiFTB"
      },
      "outputs": [],
      "source": [
        "class TripletLoss(nn.Module):\n",
        "    def __init__(self, margin=0.2):\n",
        "        super(TripletLoss, self).__init__()\n",
        "        self.margin = margin\n",
        "\n",
        "    def forward(self, anchor, positive, negative):\n",
        "        pos_dist = (anchor - positive).pow(2).sum(1)\n",
        "        neg_dist = (anchor - negative).pow(2).sum(1)\n",
        "        loss = torch.clamp(self.margin + pos_dist - neg_dist, min=0.0)\n",
        "        return loss.mean()\n"
      ]
    },
    {
      "cell_type": "markdown",
      "metadata": {
        "id": "B-_uodJBiL4h"
      },
      "source": [
        "## siamese dataset"
      ]
    },
    {
      "cell_type": "code",
      "execution_count": 14,
      "metadata": {
        "id": "58txhXMjiKv8"
      },
      "outputs": [],
      "source": [
        "class SiameseDataset(Dataset):\n",
        "    def __init__(self, data, transform=None):\n",
        "        self.data = data\n",
        "        self.transform = transform\n",
        "\n",
        "    def __getitem__(self, index):\n",
        "        image1, image2,image3 = self.data.iloc[index]\n",
        "        image1 = os.path.join (\"./images\",image1)\n",
        "        image1 = cv2.imread(image1)\n",
        "        image1 = self.transform(image1)\n",
        "        image2 = os.path.join (\"./images\",image2)\n",
        "        image2 = cv2.imread(image2)\n",
        "        image2 = self.transform(image2)\n",
        "        image3 = os.path.join (\"./images\",image3)\n",
        "        image3 = cv2.imread(image3)\n",
        "        image3 = self.transform(image3)\n",
        "        return image1, image2, image3\n",
        "\n",
        "    def __len__(self):\n",
        "        return len(self.data)"
      ]
    },
    {
      "cell_type": "code",
      "execution_count": 15,
      "metadata": {
        "id": "GrAYaPNOwWiX"
      },
      "outputs": [],
      "source": [
        "class EvalDataset(Dataset):\n",
        "    def __init__(self, data, transform=None):\n",
        "        self.data = data\n",
        "        self.transform = transform\n",
        "\n",
        "    def __getitem__(self, index):\n",
        "        image1, image2,label = self.data.iloc[index]\n",
        "        image1 = os.path.join (\"./images\",image1)\n",
        "        image1 = cv2.imread(image1)\n",
        "        image1 = self.transform(image1)\n",
        "        image2 = os.path.join (\"./images\",image2)\n",
        "        image2 = cv2.imread(image2)\n",
        "        image2 = self.transform(image2)\n",
        "        return image1, image2, label\n",
        "\n",
        "    def __len__(self):\n",
        "        return len(self.data)"
      ]
    },
    {
      "cell_type": "markdown",
      "metadata": {
        "id": "-EgVL4N2EvMI"
      },
      "source": [
        "## Training phase"
      ]
    },
    {
      "cell_type": "code",
      "execution_count": 16,
      "metadata": {
        "colab": {
          "base_uri": "https://localhost:8080/"
        },
        "id": "1rAHQ1-HEB2b",
        "outputId": "76e856a6-0076-4fbd-a94b-3ae884211cd9"
      },
      "outputs": [
        {
          "name": "stdout",
          "output_type": "stream",
          "text": [
            "Epoch 1, Loss: 0.19974325597286224\n",
            "Epoch 2, Loss: 0.19304609298706055\n",
            "Epoch 3, Loss: 0.1531039923429489\n",
            "Epoch 4, Loss: 0.09531861543655396\n",
            "Epoch 5, Loss: 0.08292731642723083\n",
            "Epoch 6, Loss: 0.09543445706367493\n",
            "Epoch 7, Loss: 0.08568125218153\n",
            "Epoch 8, Loss: 0.0644928440451622\n",
            "Epoch 9, Loss: 0.047857142984867096\n",
            "Epoch 10, Loss: 0.03858476132154465\n",
            "Epoch 11, Loss: 0.03144490346312523\n",
            "Epoch 12, Loss: 0.02350170910358429\n",
            "Epoch 13, Loss: 0.01514359936118126\n",
            "Epoch 14, Loss: 0.013040593825280666\n",
            "Epoch 15, Loss: 0.010918752290308475\n",
            "Epoch 16, Loss: 0.00814866740256548\n",
            "Epoch 17, Loss: 0.008045352064073086\n",
            "Epoch 18, Loss: 0.008191747590899467\n",
            "Epoch 19, Loss: 0.008096970617771149\n",
            "Epoch 20, Loss: 0.007875755429267883\n",
            "Training finished.\n"
          ]
        }
      ],
      "source": [
        "from tqdm import tqdm\n",
        "\n",
        "# Data transformation\n",
        "transform = transforms.Compose([transforms.ToPILImage(),transforms.Grayscale(num_output_channels=1),transforms.Resize((128, 128)), transforms.ToTensor()])\n",
        "\n",
        "# Create a custom Siamese dataset\n",
        "siamese_dataset = SiameseDataset(df, transform=transform)\n",
        "# Data loader\n",
        "train_loader = DataLoader(siamese_dataset, shuffle=True, batch_size=64)\n",
        "\n",
        "# Initialize the Siamese network and triplet loss\n",
        "net = SiameseNetwork()\n",
        "triplet_loss = TripletLoss()\n",
        "\n",
        "# Initialize the optimizer\n",
        "optimizer = optim.Adam(net.parameters(), lr=0.0001)\n",
        "\n",
        "# Training loop\n",
        "num_epochs = 20\n",
        "for epoch in range(num_epochs):\n",
        "    net.train()\n",
        "    running_loss = 0.0\n",
        "    for i, data in enumerate(train_loader,0):\n",
        "        input1, input2, input3 = data\n",
        "        optimizer.zero_grad()\n",
        "        anchor = net(input1)\n",
        "        positive = net(input2)\n",
        "        negative = net(input3)\n",
        "        loss = triplet_loss(anchor, positive, negative)\n",
        "        loss.backward()\n",
        "        optimizer.step()\n",
        "        running_loss += loss.item()\n",
        "    print(f\"Epoch {epoch + 1}, Loss: {running_loss / len(train_loader)}\")\n",
        "\n",
        "print(\"Training finished.\")\n"
      ]
    },
    {
      "cell_type": "code",
      "execution_count": 17,
      "metadata": {
        "id": "2jT-Hqx-rkqA"
      },
      "outputs": [],
      "source": [
        "# Saving models weights\n",
        "torch.save(net, './Siamese-model.pt')"
      ]
    },
    {
      "cell_type": "markdown",
      "metadata": {},
      "source": [
        "## Evaluation phase"
      ]
    },
    {
      "cell_type": "code",
      "execution_count": 70,
      "metadata": {
        "colab": {
          "base_uri": "https://localhost:8080/"
        },
        "id": "xjmKODzgwGYS",
        "outputId": "f110d7ee-ebb1-4481-f7ef-3152c1cb141f"
      },
      "outputs": [],
      "source": [
        "# Create a evaluation dataset\n",
        "eval_dataset = EvalDataset(eval, transform=transform)\n",
        "# Data loader\n",
        "eval_loader = DataLoader(eval_dataset, shuffle=True, batch_size=64)\n",
        "\n",
        "# Set your model to evaluation mode\n",
        "net.eval()\n",
        "\n",
        "# Lists to store predictions and ground truth labels\n",
        "predictions = []\n",
        "labels = []\n",
        "threshold = 0.5\n",
        "with torch.no_grad():\n",
        "    for batch in eval_loader:\n",
        "        input1, input2, label = batch\n",
        "        # Forward pass to get embeddings\n",
        "        embedding1 = net(input1)\n",
        "        embedding2 = net(input2)\n",
        "        # Compute similarity scores between embeddings\n",
        "        similarity_scores = torch.pairwise_distance(embedding1, embedding2)\n",
        "\n",
        "        # Predict using a threshold\n",
        "        predictions.extend([1 if score.item() < threshold else 0 for score in similarity_scores])\n",
        "        labels.extend(label)\n",
        "\n"
      ]
    },
    {
      "cell_type": "code",
      "execution_count": 61,
      "metadata": {},
      "outputs": [
        {
          "data": {
            "text/plain": [
              "351"
            ]
          },
          "execution_count": 61,
          "metadata": {},
          "output_type": "execute_result"
        }
      ],
      "source": [
        "len(ground_truth)"
      ]
    },
    {
      "cell_type": "code",
      "execution_count": 72,
      "metadata": {
        "id": "klASNZW2QPQP"
      },
      "outputs": [],
      "source": [
        "def Evaluation (ground_truth, prediction):\n",
        "    cm = confusion_matrix(ground_truth,prediction)\n",
        "    true_positive = cm[0,0]\n",
        "    false_positive = cm[0, 1]\n",
        "    true_negative = cm[1, 1]\n",
        "    false_negative = cm[1, 0]\n",
        "    accuracy = accuracy_score(ground_truth, prediction)\n",
        "\n",
        "    # Calculate precision, recall, and F1-score\n",
        "    precision = precision_score(ground_truth, prediction)\n",
        "    recall = recall_score(ground_truth, prediction)\n",
        "    f1 = f1_score(ground_truth,prediction)\n",
        "    # Calculate FAR (False Acceptance Rate)\n",
        "    far = false_positive / (false_positive + true_negative)\n",
        "\n",
        "    # Calculate FRR (False Rejection Rate)\n",
        "    frr = false_negative / (false_negative + true_positive)\n",
        "\n",
        "    # Calculate EER (Equal Error Rate)\n",
        "    eer = 0.5 * (far + frr)\n",
        "    return accuracy,precision,recall,f1,far,frr,eer"
      ]
    },
    {
      "cell_type": "code",
      "execution_count": 73,
      "metadata": {
        "colab": {
          "base_uri": "https://localhost:8080/"
        },
        "id": "11Ieky9vQUkn",
        "outputId": "74dbfacb-6e86-4864-d2cc-e3a5688437b9"
      },
      "outputs": [
        {
          "name": "stdout",
          "output_type": "stream",
          "text": [
            "Accuracy:  0.8717948717948718\n",
            "Precision:  0.38461538461538464\n",
            "Recall:  0.11904761904761904\n",
            "F1_score:  0.18181818181818182\n",
            "FAR:  0.6153846153846154\n",
            "FRR:  0.10946745562130178\n",
            "EER:  0.3624260355029586\n"
          ]
        }
      ],
      "source": [
        "accuracy,precision,recall,f1,far,frr,eer = Evaluation (labels, predictions)\n",
        "print(\"Accuracy: \",accuracy)\n",
        "print(\"Precision: \",precision)\n",
        "print(\"Recall: \",recall)\n",
        "print(\"F1_score: \",f1)\n",
        "print(\"FAR: \",far)\n",
        "print(\"FRR: \",frr)\n",
        "print(\"EER: \",eer)"
      ]
    }
  ],
  "metadata": {
    "colab": {
      "provenance": []
    },
    "kernelspec": {
      "display_name": "Python 3",
      "name": "python3"
    },
    "language_info": {
      "codemirror_mode": {
        "name": "ipython",
        "version": 3
      },
      "file_extension": ".py",
      "mimetype": "text/x-python",
      "name": "python",
      "nbconvert_exporter": "python",
      "pygments_lexer": "ipython3",
      "version": "3.9.12"
    }
  },
  "nbformat": 4,
  "nbformat_minor": 0
}
